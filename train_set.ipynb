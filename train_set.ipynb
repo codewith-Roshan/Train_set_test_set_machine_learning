{
 "cells": [
  {
   "cell_type": "code",
   "execution_count": 1,
   "id": "f6539c25",
   "metadata": {},
   "outputs": [],
   "source": [
    "import pandas as pd\n",
    "import numpy as np"
   ]
  },
  {
   "cell_type": "code",
   "execution_count": 2,
   "id": "b0efa779",
   "metadata": {},
   "outputs": [],
   "source": [
    "df = pd.read_csv('data.csv')"
   ]
  },
  {
   "cell_type": "code",
   "execution_count": 3,
   "id": "5e570e0a",
   "metadata": {},
   "outputs": [
    {
     "data": {
      "text/html": [
       "<div>\n",
       "<style scoped>\n",
       "    .dataframe tbody tr th:only-of-type {\n",
       "        vertical-align: middle;\n",
       "    }\n",
       "\n",
       "    .dataframe tbody tr th {\n",
       "        vertical-align: top;\n",
       "    }\n",
       "\n",
       "    .dataframe thead th {\n",
       "        text-align: right;\n",
       "    }\n",
       "</style>\n",
       "<table border=\"1\" class=\"dataframe\">\n",
       "  <thead>\n",
       "    <tr style=\"text-align: right;\">\n",
       "      <th></th>\n",
       "      <th>country</th>\n",
       "      <th>age</th>\n",
       "      <th>salary</th>\n",
       "      <th>purchased</th>\n",
       "    </tr>\n",
       "  </thead>\n",
       "  <tbody>\n",
       "    <tr>\n",
       "      <th>0</th>\n",
       "      <td>france</td>\n",
       "      <td>44.0</td>\n",
       "      <td>34000.0</td>\n",
       "      <td>yes</td>\n",
       "    </tr>\n",
       "    <tr>\n",
       "      <th>1</th>\n",
       "      <td>spain</td>\n",
       "      <td>55.0</td>\n",
       "      <td>45000.0</td>\n",
       "      <td>no</td>\n",
       "    </tr>\n",
       "    <tr>\n",
       "      <th>2</th>\n",
       "      <td>germany</td>\n",
       "      <td>43.0</td>\n",
       "      <td>23000.0</td>\n",
       "      <td>no</td>\n",
       "    </tr>\n",
       "    <tr>\n",
       "      <th>3</th>\n",
       "      <td>france</td>\n",
       "      <td>56.0</td>\n",
       "      <td>34000.0</td>\n",
       "      <td>yes</td>\n",
       "    </tr>\n",
       "    <tr>\n",
       "      <th>4</th>\n",
       "      <td>india</td>\n",
       "      <td>30.0</td>\n",
       "      <td>54000.0</td>\n",
       "      <td>yes</td>\n",
       "    </tr>\n",
       "  </tbody>\n",
       "</table>\n",
       "</div>"
      ],
      "text/plain": [
       "   country   age   salary purchased\n",
       "0   france  44.0  34000.0       yes\n",
       "1    spain  55.0  45000.0        no\n",
       "2  germany  43.0  23000.0        no\n",
       "3   france  56.0  34000.0       yes\n",
       "4    india  30.0  54000.0       yes"
      ]
     },
     "execution_count": 3,
     "metadata": {},
     "output_type": "execute_result"
    }
   ],
   "source": [
    "df.head()"
   ]
  },
  {
   "cell_type": "code",
   "execution_count": 6,
   "id": "7b70ca36",
   "metadata": {},
   "outputs": [],
   "source": [
    " x = df[['country','age','salary']].values\n"
   ]
  },
  {
   "cell_type": "code",
   "execution_count": 7,
   "id": "4030553a",
   "metadata": {},
   "outputs": [
    {
     "data": {
      "text/plain": [
       "array([['france', 44.0, 34000.0],\n",
       "       ['spain', 55.0, 45000.0],\n",
       "       ['germany', 43.0, 23000.0],\n",
       "       ['france', 56.0, 34000.0],\n",
       "       ['india', 30.0, 54000.0],\n",
       "       ['france', 30.0, nan],\n",
       "       ['spain', nan, 52000.0],\n",
       "       ['germany', 76.0, 12300.0],\n",
       "       ['america', 54.0, 54300.0],\n",
       "       ['india', nan, 36000.0],\n",
       "       ['america', 58.0, 54000.0],\n",
       "       ['sapin', 34.0, 32100.0],\n",
       "       ['france', 43.0, 32000.0]], dtype=object)"
      ]
     },
     "execution_count": 7,
     "metadata": {},
     "output_type": "execute_result"
    }
   ],
   "source": [
    "x"
   ]
  },
  {
   "cell_type": "code",
   "execution_count": 8,
   "id": "efd524ec",
   "metadata": {},
   "outputs": [],
   "source": [
    "y = df[['purchased']].values"
   ]
  },
  {
   "cell_type": "code",
   "execution_count": 9,
   "id": "62f54cff",
   "metadata": {},
   "outputs": [
    {
     "data": {
      "text/plain": [
       "array([['yes'],\n",
       "       ['no'],\n",
       "       ['no'],\n",
       "       ['yes'],\n",
       "       ['yes'],\n",
       "       ['no'],\n",
       "       ['yes'],\n",
       "       ['yes'],\n",
       "       ['yes'],\n",
       "       ['yes'],\n",
       "       ['no'],\n",
       "       ['no'],\n",
       "       ['no']], dtype=object)"
      ]
     },
     "execution_count": 9,
     "metadata": {},
     "output_type": "execute_result"
    }
   ],
   "source": [
    "y"
   ]
  },
  {
   "cell_type": "code",
   "execution_count": 13,
   "id": "335781a7",
   "metadata": {},
   "outputs": [
    {
     "data": {
      "text/html": [
       "<div>\n",
       "<style scoped>\n",
       "    .dataframe tbody tr th:only-of-type {\n",
       "        vertical-align: middle;\n",
       "    }\n",
       "\n",
       "    .dataframe tbody tr th {\n",
       "        vertical-align: top;\n",
       "    }\n",
       "\n",
       "    .dataframe thead th {\n",
       "        text-align: right;\n",
       "    }\n",
       "</style>\n",
       "<table border=\"1\" class=\"dataframe\">\n",
       "  <thead>\n",
       "    <tr style=\"text-align: right;\">\n",
       "      <th></th>\n",
       "      <th>country</th>\n",
       "      <th>age</th>\n",
       "      <th>salary</th>\n",
       "      <th>purchased</th>\n",
       "    </tr>\n",
       "  </thead>\n",
       "  <tbody>\n",
       "    <tr>\n",
       "      <th>0</th>\n",
       "      <td>france</td>\n",
       "      <td>44.0</td>\n",
       "      <td>34000.0</td>\n",
       "      <td>yes</td>\n",
       "    </tr>\n",
       "    <tr>\n",
       "      <th>1</th>\n",
       "      <td>spain</td>\n",
       "      <td>55.0</td>\n",
       "      <td>45000.0</td>\n",
       "      <td>no</td>\n",
       "    </tr>\n",
       "    <tr>\n",
       "      <th>2</th>\n",
       "      <td>germany</td>\n",
       "      <td>43.0</td>\n",
       "      <td>23000.0</td>\n",
       "      <td>no</td>\n",
       "    </tr>\n",
       "    <tr>\n",
       "      <th>3</th>\n",
       "      <td>france</td>\n",
       "      <td>56.0</td>\n",
       "      <td>34000.0</td>\n",
       "      <td>yes</td>\n",
       "    </tr>\n",
       "    <tr>\n",
       "      <th>4</th>\n",
       "      <td>india</td>\n",
       "      <td>30.0</td>\n",
       "      <td>54000.0</td>\n",
       "      <td>yes</td>\n",
       "    </tr>\n",
       "    <tr>\n",
       "      <th>5</th>\n",
       "      <td>france</td>\n",
       "      <td>30.0</td>\n",
       "      <td>NaN</td>\n",
       "      <td>no</td>\n",
       "    </tr>\n",
       "    <tr>\n",
       "      <th>6</th>\n",
       "      <td>spain</td>\n",
       "      <td>NaN</td>\n",
       "      <td>52000.0</td>\n",
       "      <td>yes</td>\n",
       "    </tr>\n",
       "    <tr>\n",
       "      <th>7</th>\n",
       "      <td>germany</td>\n",
       "      <td>76.0</td>\n",
       "      <td>12300.0</td>\n",
       "      <td>yes</td>\n",
       "    </tr>\n",
       "    <tr>\n",
       "      <th>8</th>\n",
       "      <td>america</td>\n",
       "      <td>54.0</td>\n",
       "      <td>54300.0</td>\n",
       "      <td>yes</td>\n",
       "    </tr>\n",
       "    <tr>\n",
       "      <th>9</th>\n",
       "      <td>india</td>\n",
       "      <td>NaN</td>\n",
       "      <td>36000.0</td>\n",
       "      <td>yes</td>\n",
       "    </tr>\n",
       "    <tr>\n",
       "      <th>10</th>\n",
       "      <td>america</td>\n",
       "      <td>58.0</td>\n",
       "      <td>54000.0</td>\n",
       "      <td>no</td>\n",
       "    </tr>\n",
       "    <tr>\n",
       "      <th>11</th>\n",
       "      <td>sapin</td>\n",
       "      <td>34.0</td>\n",
       "      <td>32100.0</td>\n",
       "      <td>no</td>\n",
       "    </tr>\n",
       "    <tr>\n",
       "      <th>12</th>\n",
       "      <td>france</td>\n",
       "      <td>43.0</td>\n",
       "      <td>32000.0</td>\n",
       "      <td>no</td>\n",
       "    </tr>\n",
       "  </tbody>\n",
       "</table>\n",
       "</div>"
      ],
      "text/plain": [
       "    country   age   salary purchased\n",
       "0    france  44.0  34000.0       yes\n",
       "1     spain  55.0  45000.0        no\n",
       "2   germany  43.0  23000.0        no\n",
       "3    france  56.0  34000.0       yes\n",
       "4     india  30.0  54000.0       yes\n",
       "5    france  30.0      NaN        no\n",
       "6     spain   NaN  52000.0       yes\n",
       "7   germany  76.0  12300.0       yes\n",
       "8   america  54.0  54300.0       yes\n",
       "9     india   NaN  36000.0       yes\n",
       "10  america  58.0  54000.0        no\n",
       "11    sapin  34.0  32100.0        no\n",
       "12   france  43.0  32000.0        no"
      ]
     },
     "execution_count": 13,
     "metadata": {},
     "output_type": "execute_result"
    }
   ],
   "source": [
    "df"
   ]
  },
  {
   "cell_type": "code",
   "execution_count": 10,
   "id": "34a1ca99",
   "metadata": {},
   "outputs": [],
   "source": [
    "from sklearn.impute import SimpleImputer"
   ]
  },
  {
   "cell_type": "code",
   "execution_count": 12,
   "id": "433eba67",
   "metadata": {},
   "outputs": [
    {
     "data": {
      "text/plain": [
       "SimpleImputer()"
      ]
     },
     "execution_count": 12,
     "metadata": {},
     "output_type": "execute_result"
    }
   ],
   "source": [
    "SimpleImputer()"
   ]
  },
  {
   "cell_type": "code",
   "execution_count": 14,
   "id": "210d208c",
   "metadata": {},
   "outputs": [],
   "source": [
    "imputer = SimpleImputer(missing_values = np.nan, strategy = 'mean')"
   ]
  },
  {
   "cell_type": "code",
   "execution_count": 16,
   "id": "16323a21",
   "metadata": {},
   "outputs": [],
   "source": [
    "imputer = imputer.fit(x[:,1:3])"
   ]
  },
  {
   "cell_type": "code",
   "execution_count": 17,
   "id": "c7a63d15",
   "metadata": {},
   "outputs": [],
   "source": [
    "x[:,1:3] = imputer.transform(x[:,1:3])"
   ]
  },
  {
   "cell_type": "code",
   "execution_count": 18,
   "id": "8e615bfd",
   "metadata": {},
   "outputs": [
    {
     "data": {
      "text/plain": [
       "array([['france', 44.0, 34000.0],\n",
       "       ['spain', 55.0, 45000.0],\n",
       "       ['germany', 43.0, 23000.0],\n",
       "       ['france', 56.0, 34000.0],\n",
       "       ['india', 30.0, 54000.0],\n",
       "       ['france', 30.0, 38558.333333333336],\n",
       "       ['spain', 47.54545454545455, 52000.0],\n",
       "       ['germany', 76.0, 12300.0],\n",
       "       ['america', 54.0, 54300.0],\n",
       "       ['india', 47.54545454545455, 36000.0],\n",
       "       ['america', 58.0, 54000.0],\n",
       "       ['sapin', 34.0, 32100.0],\n",
       "       ['france', 43.0, 32000.0]], dtype=object)"
      ]
     },
     "execution_count": 18,
     "metadata": {},
     "output_type": "execute_result"
    }
   ],
   "source": [
    "x"
   ]
  },
  {
   "cell_type": "code",
   "execution_count": 19,
   "id": "3e9eafd8",
   "metadata": {},
   "outputs": [],
   "source": [
    "from sklearn.preprocessing import LabelEncoder"
   ]
  },
  {
   "cell_type": "code",
   "execution_count": 20,
   "id": "76d07f79",
   "metadata": {},
   "outputs": [],
   "source": [
    "label_x = LabelEncoder()"
   ]
  },
  {
   "cell_type": "code",
   "execution_count": 22,
   "id": "ad43ae0c",
   "metadata": {},
   "outputs": [],
   "source": [
    "x[:,0] = label_x.fit_transform(x[:,0])"
   ]
  },
  {
   "cell_type": "code",
   "execution_count": 23,
   "id": "292a68f4",
   "metadata": {},
   "outputs": [
    {
     "data": {
      "text/plain": [
       "array([[1, 44.0, 34000.0],\n",
       "       [5, 55.0, 45000.0],\n",
       "       [2, 43.0, 23000.0],\n",
       "       [1, 56.0, 34000.0],\n",
       "       [3, 30.0, 54000.0],\n",
       "       [1, 30.0, 38558.333333333336],\n",
       "       [5, 47.54545454545455, 52000.0],\n",
       "       [2, 76.0, 12300.0],\n",
       "       [0, 54.0, 54300.0],\n",
       "       [3, 47.54545454545455, 36000.0],\n",
       "       [0, 58.0, 54000.0],\n",
       "       [4, 34.0, 32100.0],\n",
       "       [1, 43.0, 32000.0]], dtype=object)"
      ]
     },
     "execution_count": 23,
     "metadata": {},
     "output_type": "execute_result"
    }
   ],
   "source": [
    "x"
   ]
  },
  {
   "cell_type": "code",
   "execution_count": 24,
   "id": "b7995ef6",
   "metadata": {},
   "outputs": [],
   "source": [
    "from sklearn.preprocessing import OneHotEncoder"
   ]
  },
  {
   "cell_type": "code",
   "execution_count": 25,
   "id": "3c1e9c7e",
   "metadata": {},
   "outputs": [],
   "source": [
    "ohc = OneHotEncoder()"
   ]
  },
  {
   "cell_type": "code",
   "execution_count": 30,
   "id": "72752df5",
   "metadata": {},
   "outputs": [],
   "source": [
    "x = ohc.fit_transform(df.country.values.reshape(-1,1)).toarray()"
   ]
  },
  {
   "cell_type": "code",
   "execution_count": 31,
   "id": "fc3242ac",
   "metadata": {},
   "outputs": [
    {
     "data": {
      "text/plain": [
       "array([[0., 1., 0., 0., 0., 0.],\n",
       "       [0., 0., 0., 0., 0., 1.],\n",
       "       [0., 0., 1., 0., 0., 0.],\n",
       "       [0., 1., 0., 0., 0., 0.],\n",
       "       [0., 0., 0., 1., 0., 0.],\n",
       "       [0., 1., 0., 0., 0., 0.],\n",
       "       [0., 0., 0., 0., 0., 1.],\n",
       "       [0., 0., 1., 0., 0., 0.],\n",
       "       [1., 0., 0., 0., 0., 0.],\n",
       "       [0., 0., 0., 1., 0., 0.],\n",
       "       [1., 0., 0., 0., 0., 0.],\n",
       "       [0., 0., 0., 0., 1., 0.],\n",
       "       [0., 1., 0., 0., 0., 0.]])"
      ]
     },
     "execution_count": 31,
     "metadata": {},
     "output_type": "execute_result"
    }
   ],
   "source": [
    "x"
   ]
  },
  {
   "cell_type": "code",
   "execution_count": 34,
   "id": "195c96e4",
   "metadata": {},
   "outputs": [],
   "source": [
    "label_y = LabelEncoder()\n"
   ]
  },
  {
   "cell_type": "code",
   "execution_count": 36,
   "id": "c38cbd35",
   "metadata": {},
   "outputs": [
    {
     "name": "stderr",
     "output_type": "stream",
     "text": [
      "C:\\Users\\Admin\\anaconda3\\lib\\site-packages\\sklearn\\preprocessing\\_label.py:115: DataConversionWarning: A column-vector y was passed when a 1d array was expected. Please change the shape of y to (n_samples, ), for example using ravel().\n",
      "  y = column_or_1d(y, warn=True)\n"
     ]
    }
   ],
   "source": [
    "y= label_y.fit_transform(y)"
   ]
  },
  {
   "cell_type": "code",
   "execution_count": 37,
   "id": "5c4d6a8e",
   "metadata": {},
   "outputs": [
    {
     "data": {
      "text/plain": [
       "array([1, 0, 0, 1, 1, 0, 1, 1, 1, 1, 0, 0, 0])"
      ]
     },
     "execution_count": 37,
     "metadata": {},
     "output_type": "execute_result"
    }
   ],
   "source": [
    "y"
   ]
  },
  {
   "cell_type": "code",
   "execution_count": 38,
   "id": "8e62796e",
   "metadata": {},
   "outputs": [],
   "source": [
    "from sklearn.model_selection import train_test_split"
   ]
  },
  {
   "cell_type": "code",
   "execution_count": 39,
   "id": "711461fc",
   "metadata": {},
   "outputs": [],
   "source": [
    "x_train,x_test,y_tain, y_test = train_test_split(x,y,test_size=0.2, random_state = 0)"
   ]
  },
  {
   "cell_type": "code",
   "execution_count": 40,
   "id": "c3d74cf8",
   "metadata": {},
   "outputs": [],
   "source": [
    "from sklearn.preprocessing import StandardScaler"
   ]
  },
  {
   "cell_type": "code",
   "execution_count": 41,
   "id": "0823f230",
   "metadata": {},
   "outputs": [],
   "source": [
    "s_c = StandardScaler()"
   ]
  },
  {
   "cell_type": "code",
   "execution_count": 42,
   "id": "9aa0c77a",
   "metadata": {},
   "outputs": [],
   "source": [
    "x_test = s_c.fit_transform(x_test)"
   ]
  },
  {
   "cell_type": "code",
   "execution_count": 43,
   "id": "996ce68c",
   "metadata": {},
   "outputs": [],
   "source": [
    "x_train = s_c.fit_transform(x_train)"
   ]
  },
  {
   "cell_type": "code",
   "execution_count": 44,
   "id": "34cea147",
   "metadata": {},
   "outputs": [
    {
     "data": {
      "text/plain": [
       "array([[ 2.        , -0.81649658, -0.5       , -0.33333333,  0.        ,\n",
       "        -0.33333333],\n",
       "       [-0.5       , -0.81649658,  2.        , -0.33333333,  0.        ,\n",
       "        -0.33333333],\n",
       "       [ 2.        , -0.81649658, -0.5       , -0.33333333,  0.        ,\n",
       "        -0.33333333],\n",
       "       [-0.5       , -0.81649658, -0.5       , -0.33333333,  0.        ,\n",
       "         3.        ],\n",
       "       [-0.5       , -0.81649658,  2.        , -0.33333333,  0.        ,\n",
       "        -0.33333333],\n",
       "       [-0.5       , -0.81649658, -0.5       ,  3.        ,  0.        ,\n",
       "        -0.33333333],\n",
       "       [-0.5       ,  1.22474487, -0.5       , -0.33333333,  0.        ,\n",
       "        -0.33333333],\n",
       "       [-0.5       ,  1.22474487, -0.5       , -0.33333333,  0.        ,\n",
       "        -0.33333333],\n",
       "       [-0.5       ,  1.22474487, -0.5       , -0.33333333,  0.        ,\n",
       "        -0.33333333],\n",
       "       [-0.5       ,  1.22474487, -0.5       , -0.33333333,  0.        ,\n",
       "        -0.33333333]])"
      ]
     },
     "execution_count": 44,
     "metadata": {},
     "output_type": "execute_result"
    }
   ],
   "source": [
    "x_train\n"
   ]
  },
  {
   "cell_type": "code",
   "execution_count": null,
   "id": "4d1e72b2",
   "metadata": {},
   "outputs": [],
   "source": [
    "now our dataset is ready to make model or implement algorithm"
   ]
  }
 ],
 "metadata": {
  "kernelspec": {
   "display_name": "Python 3 (ipykernel)",
   "language": "python",
   "name": "python3"
  },
  "language_info": {
   "codemirror_mode": {
    "name": "ipython",
    "version": 3
   },
   "file_extension": ".py",
   "mimetype": "text/x-python",
   "name": "python",
   "nbconvert_exporter": "python",
   "pygments_lexer": "ipython3",
   "version": "3.9.13"
  }
 },
 "nbformat": 4,
 "nbformat_minor": 5
}
